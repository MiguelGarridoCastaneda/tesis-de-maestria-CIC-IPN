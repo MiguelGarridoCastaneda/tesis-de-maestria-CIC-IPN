{
  "nbformat": 4,
  "nbformat_minor": 0,
  "metadata": {
    "colab": {
      "provenance": []
    },
    "kernelspec": {
      "name": "python3",
      "display_name": "Python 3"
    },
    "language_info": {
      "name": "python"
    }
  },
  "cells": [
    {
      "cell_type": "code",
      "source": [
        "from google.colab import drive\n",
        "drive.mount('/content/drive')"
      ],
      "metadata": {
        "colab": {
          "base_uri": "https://localhost:8080/"
        },
        "id": "yPJoJFIOvOEq",
        "outputId": "40b5da88-4537-4252-e1d0-140f7b962021"
      },
      "execution_count": 1,
      "outputs": [
        {
          "output_type": "stream",
          "name": "stdout",
          "text": [
            "Mounted at /content/drive\n"
          ]
        }
      ]
    },
    {
      "cell_type": "code",
      "execution_count": 2,
      "metadata": {
        "id": "FcKqT9PVvBVw"
      },
      "outputs": [],
      "source": [
        "import pandas as pd\n",
        "import matplotlib.pyplot as plt\n",
        "import numpy as np\n",
        "from scipy import stats as st\n",
        "plt.style.use('ggplot')"
      ]
    },
    {
      "cell_type": "code",
      "source": [
        "folder_resultados = \"/content/drive/MyDrive/experimentos de tesis/resultados/\"\n",
        "folder_datasets_originales = \"/content/drive/MyDrive/experimentos de tesis/datasets originales/\""
      ],
      "metadata": {
        "id": "XaYroGxUvJEY"
      },
      "execution_count": 3,
      "outputs": []
    },
    {
      "cell_type": "code",
      "source": [
        "# promedio de resultados de clasificadores clásicos\n",
        "ba_clasicos = pd.read_csv(folder_resultados+\"ba_clasificadores_clasicos.csv\")\n",
        "datasets_names = ba_clasicos['Indices'].str.split('_').apply(lambda x: x[0])\n",
        "ba_clasicos[\"Dataset Name\"] = datasets_names\n",
        "ba_clasicos.drop('Indices', axis=1, inplace=True)\n",
        "ba_clasicos.groupby('Dataset Name').mean().mean()"
      ],
      "metadata": {
        "colab": {
          "base_uri": "https://localhost:8080/"
        },
        "id": "uRlIokN-TDmu",
        "outputId": "77ae6bd7-4416-41ea-8d82-56ff444fadb0"
      },
      "execution_count": 4,
      "outputs": [
        {
          "output_type": "execute_result",
          "data": {
            "text/plain": [
              "3-NN            0.760106\n",
              "5-NN            0.731837\n",
              "NaiveBayes      0.739157\n",
              "MLP             0.682508\n",
              "RandomForest    0.753182\n",
              "AdaBoost        0.597204\n",
              "DecisionTree    0.654963\n",
              "SVM-Linear      0.824524\n",
              "dtype: float64"
            ]
          },
          "metadata": {},
          "execution_count": 4
        }
      ]
    },
    {
      "cell_type": "code",
      "source": [
        "# Se cargan los resultados de la metodología propuesta\n",
        "\n",
        "prop1_todos100 = pd.read_csv(folder_resultados+\"cnn_todos_100_prop1.csv\")\n",
        "\n",
        "prop1_filtros90 = pd.read_csv(folder_resultados+\"cnn_filtros_90_prop1.csv\", index_col=\"Indices\")\n",
        "prop1_clasif90 = pd.read_csv(folder_resultados+\"cnn_clasif_90_prop1.csv\", index_col=\"Indices\")\n",
        "prop1_todos90 = pd.concat((prop1_filtros90, prop1_clasif90), axis=1)\n",
        "prop1_todos90 = prop1_todos90.reset_index()\n",
        "\n",
        "prop1_filtros80 = pd.read_csv(folder_resultados+\"cnn_filtros_80_prop1.csv\", index_col=\"Indices\")\n",
        "prop1_clasif80 = pd.read_csv(folder_resultados+\"cnn_clasif_80_prop1.csv\", index_col=\"Indices\")\n",
        "prop1_todos80 = pd.concat((prop1_filtros80, prop1_clasif80), axis=1)\n",
        "prop1_todos80 = prop1_todos80.reset_index()\n",
        "\n",
        "prop1_filtros70 = pd.read_csv(folder_resultados+\"cnn_filtros_70_prop1.csv\", index_col=\"Indices\")\n",
        "prop1_clasif70 = pd.read_csv(folder_resultados+\"cnn_clasif_70_prop1.csv\", index_col=\"Indices\")\n",
        "prop1_todos70 = pd.concat((prop1_filtros70, prop1_clasif70), axis=1)\n",
        "prop1_todos70 = prop1_todos70.reset_index()"
      ],
      "metadata": {
        "id": "il8ZOaoav8CM"
      },
      "execution_count": 5,
      "outputs": []
    },
    {
      "cell_type": "code",
      "source": [
        "# Resultados propmedio de propuestas completas (sin recorte)\n",
        "datasets_names = prop1_todos100['Indices'].str.split('_').apply(lambda x: x[0])\n",
        "prop1_todos100[\"Dataset Name\"] = datasets_names\n",
        "prop1_todos100.drop('Indices', axis=1, inplace=True)\n",
        "prop1_todos100.groupby('Dataset Name').mean().mean()"
      ],
      "metadata": {
        "colab": {
          "base_uri": "https://localhost:8080/"
        },
        "id": "A85YFLiwlCDP",
        "outputId": "f5b5ffa0-4506-46d9-b79c-e16c32f6b797"
      },
      "execution_count": 6,
      "outputs": [
        {
          "output_type": "execute_result",
          "data": {
            "text/plain": [
              "_chi2/1           0.776840\n",
              "_f_classif/1      0.772979\n",
              "_mutual_info/1    0.779639\n",
              "_3nn/1            0.792664\n",
              "_5nn/1            0.796211\n",
              "_nb/1             0.797296\n",
              "dtype: float64"
            ]
          },
          "metadata": {},
          "execution_count": 6
        }
      ]
    },
    {
      "cell_type": "code",
      "source": [
        "# Resultaods promedio de propuestas con recorte (30%)\n",
        "datasets_names = prop1_todos70['Indices'].str.split('_').apply(lambda x: x[0])\n",
        "prop1_todos70[\"Dataset Name\"] = datasets_names\n",
        "prop1_todos70.drop('Indices', axis=1, inplace=True)\n",
        "prop1_todos70.groupby('Dataset Name').mean().mean()"
      ],
      "metadata": {
        "colab": {
          "base_uri": "https://localhost:8080/"
        },
        "id": "95-Js72uXeNL",
        "outputId": "1416b5c1-f527-4642-94f0-35264ecaf761"
      },
      "execution_count": 7,
      "outputs": [
        {
          "output_type": "execute_result",
          "data": {
            "text/plain": [
              "_chi2/0.7           0.827784\n",
              "_f_classif/0.7      0.816283\n",
              "_mutual_info/0.7    0.808138\n",
              "_3nn/0.7            0.748477\n",
              "_5nn/0.7            0.766094\n",
              "_nb/0.7             0.759523\n",
              "dtype: float64"
            ]
          },
          "metadata": {},
          "execution_count": 7
        }
      ]
    },
    {
      "cell_type": "code",
      "source": [
        "filenames = ['9tumors.csv', '11tumors.csv', '14tumors.csv', 'braintumor1.csv', 'braintumor2.csv',\n",
        "             'dlbcl.csv', 'leukemia1.csv', 'leukemia2.csv', 'lungcancer.csv', 'prostate.csv', 'srbct.csv']"
      ],
      "metadata": {
        "id": "NxxfFiSAwAo3"
      },
      "execution_count": 8,
      "outputs": []
    },
    {
      "cell_type": "code",
      "source": [
        "# Todas las propuestas\n",
        "todos100 = prop1_todos100.mean(numeric_only=True).sort_values(ascending=False)\n",
        "todos90 = prop1_todos90.mean(numeric_only=True).sort_values(ascending=False)\n",
        "todos80 = prop1_todos80.mean(numeric_only=True).sort_values(ascending=False)\n",
        "todos70 = prop1_todos70.mean(numeric_only=True).sort_values(ascending=False)\n",
        "print(todos100)\n",
        "print(todos90)\n",
        "print(todos80)\n",
        "print(todos70)"
      ],
      "metadata": {
        "colab": {
          "base_uri": "https://localhost:8080/"
        },
        "id": "OiwuHJ718BGL",
        "outputId": "cf734e46-2df2-4d9a-e1eb-5c390cfddaf1"
      },
      "execution_count": 11,
      "outputs": [
        {
          "output_type": "stream",
          "name": "stdout",
          "text": [
            "_nb/1             0.797296\n",
            "_5nn/1            0.796211\n",
            "_3nn/1            0.792664\n",
            "_mutual_info/1    0.779639\n",
            "_chi2/1           0.776840\n",
            "_f_classif/1      0.772979\n",
            "dtype: float64\n",
            "_chi2/0.9           0.813788\n",
            "_f_classif/0.9      0.800008\n",
            "_nb/0.9             0.791729\n",
            "_3nn/0.9            0.789001\n",
            "_5nn/0.9            0.788803\n",
            "_mutual_info/0.9    0.778705\n",
            "dtype: float64\n",
            "_chi2/0.8           0.821987\n",
            "_mutual_info/0.8    0.812110\n",
            "_f_classif/0.8      0.806875\n",
            "_3nn/0.8            0.778756\n",
            "_5nn/0.8            0.774398\n",
            "_nb/0.8             0.770538\n",
            "dtype: float64\n",
            "_chi2/0.7           0.827784\n",
            "_f_classif/0.7      0.816283\n",
            "_mutual_info/0.7    0.808138\n",
            "_5nn/0.7            0.766094\n",
            "_nb/0.7             0.759523\n",
            "_3nn/0.7            0.748477\n",
            "dtype: float64\n"
          ]
        }
      ]
    },
    {
      "cell_type": "code",
      "source": [
        "# Resultados por recortes en datasets (SR)\n",
        "x = np.array(todos100.index.str[1:-2])\n",
        "x = x[[4,5,3,2,1,0]]\n",
        "y = np.array(todos100) * 100\n",
        "y = y[[4,5,3,2,1,0]]\n",
        "plt.bar(x[:3], y[:3], label=\"conf: pruebas estadísticas\")\n",
        "plt.bar(x[3:], y[3:], label=\"conf: clasificadores\")\n",
        "plt.legend()\n",
        "plt.ylim([70,81])\n",
        "plt.show()"
      ],
      "metadata": {
        "colab": {
          "base_uri": "https://localhost:8080/",
          "height": 430
        },
        "id": "U1HB1GCsff1d",
        "outputId": "56f359c9-0081-47ab-9301-be5a33845bfe"
      },
      "execution_count": 46,
      "outputs": [
        {
          "output_type": "display_data",
          "data": {
            "text/plain": [
              "<Figure size 640x480 with 1 Axes>"
            ],
            "image/png": "[encoded data removed]"
          },
          "metadata": {}
        }
      ]
    },
    {
      "cell_type": "code",
      "source": [
        "# Resultados por recortes en datasets (10%)\n",
        "x = np.array(todos90.index.str[1:-4])\n",
        "x = x[[0,1,5,3,4,2]]\n",
        "y = np.array(todos90) * 100\n",
        "y = y[[0,1,5,3,4,2]]\n",
        "plt.bar(x[:3], y[:3], label=\"conf: pruebas estadísticas\")\n",
        "plt.bar(x[3:], y[3:], label=\"conf: clasificadores\")\n",
        "plt.legend()\n",
        "plt.ylim([70,83])\n",
        "plt.show()"
      ],
      "metadata": {
        "colab": {
          "base_uri": "https://localhost:8080/",
          "height": 430
        },
        "id": "j-xlFLtium9x",
        "outputId": "7446d586-0c70-47d7-c055-6cdd3e204f63"
      },
      "execution_count": 51,
      "outputs": [
        {
          "output_type": "display_data",
          "data": {
            "text/plain": [
              "<Figure size 640x480 with 1 Axes>"
            ],
            "image/png": "[encoded data removed]"
          },
          "metadata": {}
        }
      ]
    },
    {
      "cell_type": "code",
      "source": [
        "# Resultados por recorte en datasets (20%)\n",
        "x = np.array(todos80.index.str[1:-4])\n",
        "x = x[[0,2,1,3,4,5]]\n",
        "y = np.array(todos80) * 100\n",
        "y = y[[0,2,1,3,4,5]]\n",
        "plt.bar(x[:3], y[:3], label=\"conf: pruebas estadísticas\")\n",
        "plt.bar(x[3:], y[3:], label=\"conf: clasificadores\")\n",
        "plt.legend()\n",
        "plt.ylim([70,83])\n",
        "plt.show()"
      ],
      "metadata": {
        "colab": {
          "base_uri": "https://localhost:8080/",
          "height": 430
        },
        "id": "WTnsuGkfizsu",
        "outputId": "11b89543-3fe4-46db-aaa2-35e0c032acbf"
      },
      "execution_count": 53,
      "outputs": [
        {
          "output_type": "display_data",
          "data": {
            "text/plain": [
              "<Figure size 640x480 with 1 Axes>"
            ],
            "image/png": "[encoded data removed]"
          },
          "metadata": {}
        }
      ]
    },
    {
      "cell_type": "code",
      "source": [
        "# Resultados por recortes en datasets (30%)\n",
        "x = np.array(todos70.index.str[1:-4])\n",
        "x = x[[0,1,2,5,3,4]]\n",
        "y = np.array(todos70) * 100\n",
        "y = y[[0,1,2,5,3,4]]\n",
        "plt.bar(x[:3], y[:3], label=\"conf: pruebas estadísticas\")\n",
        "plt.bar(x[3:], y[3:], label=\"conf: clasificadores\")\n",
        "plt.legend()\n",
        "plt.ylim([70,83])\n",
        "plt.show()"
      ],
      "metadata": {
        "colab": {
          "base_uri": "https://localhost:8080/",
          "height": 430
        },
        "id": "OD79VupHjEZD",
        "outputId": "45112d5f-859e-4b86-96f8-b00a38c49f46"
      },
      "execution_count": 58,
      "outputs": [
        {
          "output_type": "display_data",
          "data": {
            "text/plain": [
              "<Figure size 640x480 with 1 Axes>"
            ],
            "image/png": "[encoded data removed]"
          },
          "metadata": {}
        }
      ]
    },
    {
      "cell_type": "code",
      "source": [
        "# Gráfica de resultados al aplicar recortes en datasets\n",
        "plt.figure(figsize=(10,5))\n",
        "chi2 = np.array([todos100['_chi2/1'], todos90['_chi2/0.9'], todos80['_chi2/0.8'], todos70['_chi2/0.7']])*100\n",
        "f_clas = np.array([todos100['_f_classif/1'], todos90['_f_classif/0.9'], todos80['_f_classif/0.8'], todos70['_f_classif/0.7']])*100\n",
        "mutual_info = np.array([todos100['_mutual_info/1'], todos90['_mutual_info/0.9'], todos80['_mutual_info/0.8'], todos70['_mutual_info/0.7']])*100\n",
        "knn_3 = np.array([todos100['_3nn/1'], todos90['_3nn/0.9'], todos80['_3nn/0.8'], todos70['_3nn/0.7']])*100\n",
        "knn_5 = np.array([todos100['_5nn/1'], todos90['_5nn/0.9'], todos80['_5nn/0.8'], todos70['_5nn/0.7']])*100\n",
        "nb = np.array([todos100['_nb/1'], todos90['_nb/0.9'], todos80['_nb/0.8'], todos70['_nb/0.7']])*100\n",
        "pos = [\"0\", \"10\", \"20\", \"30\"]\n",
        "plt.plot(pos, chi2, label=\"chi2\", linewidth=2, marker='o')\n",
        "plt.plot(pos, f_clas, label=\"f_classif\", marker='o')\n",
        "plt.plot(pos, mutual_info, label=\"mutual_info\", marker='o')\n",
        "plt.plot(pos, knn_3, label=\"3-nn\", marker='^')\n",
        "plt.plot(pos, knn_5, label=\"5-nn\", marker='^')\n",
        "plt.plot(pos, nb, label=\"naive Bayes\", marker='^')\n",
        "plt.ylim([74,84])\n",
        "plt.legend()\n",
        "plt.xlabel(\"Recorte (%)\")\n",
        "plt.ylabel(\"Balanced Accuracy (%)\")\n",
        "plt.show()"
      ],
      "metadata": {
        "id": "1xnCWpPaSoeA",
        "colab": {
          "base_uri": "https://localhost:8080/",
          "height": 474
        },
        "outputId": "5f754109-5e8f-45ba-8bc4-1e2e93b7b80e"
      },
      "execution_count": 22,
      "outputs": [
        {
          "output_type": "display_data",
          "data": {
            "text/plain": [
              "<Figure size 1000x500 with 1 Axes>"
            ],
            "image/png": "[encoded data removed]"
          },
          "metadata": {}
        }
      ]
    },
    {
      "cell_type": "code",
      "source": [
        "resultados100 = prop1_todos100.iloc[:,:-1]\n",
        "resultados70 = prop1_todos70.iloc[:,:-1]\n",
        "\n",
        "new_cols = list(map(lambda col: col.replace('0.7', '30%'), resultados70.columns))\n",
        "resultados70.columns = new_cols\n",
        "\n",
        "new_colsSR = list(map(lambda col: col.replace('1', 'SR'), resultados100.columns))\n",
        "resultados100.columns = new_colsSR"
      ],
      "metadata": {
        "id": "4NZfEzWQU5_7"
      },
      "execution_count": 59,
      "outputs": []
    },
    {
      "cell_type": "code",
      "source": [
        "resultadosclasicos = pd.read_csv(folder_resultados+\"ba_clasificadores_clasicos.csv\").iloc[:,:-1]"
      ],
      "metadata": {
        "id": "EcsTYbks_JHc"
      },
      "execution_count": 60,
      "outputs": []
    },
    {
      "cell_type": "code",
      "source": [
        "resultadosclasicos"
      ],
      "metadata": {
        "id": "fyCSyYpq7Rhx",
        "outputId": "0be69253-0311-4892-c38c-f6f9e3176627",
        "colab": {
          "base_uri": "https://localhost:8080/",
          "height": 423
        }
      },
      "execution_count": 61,
      "outputs": [
        {
          "output_type": "execute_result",
          "data": {
            "text/plain": [
              "         3-NN      5-NN  NaiveBayes       MLP  RandomForest  AdaBoost  \\\n",
              "0    0.380952  0.380952    0.285714  0.428571      0.142857  0.000000   \n",
              "1    0.428571  0.357143    0.428571  0.500000      0.285714  0.214286   \n",
              "2    0.222222  0.444444    0.388889  0.277778      0.444444  0.166667   \n",
              "3    0.738095  0.523810    0.619048  0.452381      0.666667  0.380952   \n",
              "4    0.214286  0.166667    0.285714  0.285714      0.214286  0.142857   \n",
              "..        ...       ...         ...       ...           ...       ...   \n",
              "215  0.928571  0.892857    1.000000  1.000000      1.000000  0.628571   \n",
              "216  1.000000  1.000000    0.972222  1.000000      1.000000  0.875000   \n",
              "217  0.906250  0.875000    1.000000  1.000000      1.000000  0.822917   \n",
              "218  0.944444  0.907407    1.000000  1.000000      1.000000  0.888889   \n",
              "219  0.950000  0.858333    0.895833  1.000000      1.000000  0.908333   \n",
              "\n",
              "     DecisionTree  SVM-Linear  \n",
              "0        0.166667    0.428571  \n",
              "1        0.142857    0.500000  \n",
              "2        0.277778    0.555556  \n",
              "3        0.404762    0.690476  \n",
              "4        0.333333    0.523810  \n",
              "..            ...         ...  \n",
              "215      0.566071    1.000000  \n",
              "216      0.659722    1.000000  \n",
              "217      0.739583    1.000000  \n",
              "218      0.888889    1.000000  \n",
              "219      0.712500    1.000000  \n",
              "\n",
              "[220 rows x 8 columns]"
            ],
            "text/html": [
              "\n",
              "  <div id=\"df-adefc43f-dacf-42ab-8c56-149ee914eecf\">\n",
              "    <div class=\"colab-df-container\">\n",
              "      <div>\n",
              "<style scoped>\n",
              "    .dataframe tbody tr th:only-of-type {\n",
              "        vertical-align: middle;\n",
              "    }\n",
              "\n",
              "    .dataframe tbody tr th {\n",
              "        vertical-align: top;\n",
              "    }\n",
              "\n",
              "    .dataframe thead th {\n",
              "        text-align: right;\n",
              "    }\n",
              "</style>\n",
              "<table border=\"1\" class=\"dataframe\">\n",
              "  <thead>\n",
              "    <tr style=\"text-align: right;\">\n",
              "      <th></th>\n",
              "      <th>3-NN</th>\n",
              "      <th>5-NN</th>\n",
              "      <th>NaiveBayes</th>\n",
              "      <th>MLP</th>\n",
              "      <th>RandomForest</th>\n",
              "      <th>AdaBoost</th>\n",
              "      <th>DecisionTree</th>\n",
              "      <th>SVM-Linear</th>\n",
              "    </tr>\n",
              "  </thead>\n",
              "  <tbody>\n",
              "    <tr>\n",
              "      <th>0</th>\n",
              "      <td>0.380952</td>\n",
              "      <td>0.380952</td>\n",
              "      <td>0.285714</td>\n",
              "      <td>0.428571</td>\n",
              "      <td>0.142857</td>\n",
              "      <td>0.000000</td>\n",
              "      <td>0.166667</td>\n",
              "      <td>0.428571</td>\n",
              "    </tr>\n",
              "    <tr>\n",
              "      <th>1</th>\n",
              "      <td>0.428571</td>\n",
              "      <td>0.357143</td>\n",
              "      <td>0.428571</td>\n",
              "      <td>0.500000</td>\n",
              "      <td>0.285714</td>\n",
              "      <td>0.214286</td>\n",
              "      <td>0.142857</td>\n",
              "      <td>0.500000</td>\n",
              "    </tr>\n",
              "    <tr>\n",
              "      <th>2</th>\n",
              "      <td>0.222222</td>\n",
              "      <td>0.444444</td>\n",
              "      <td>0.388889</td>\n",
              "      <td>0.277778</td>\n",
              "      <td>0.444444</td>\n",
              "      <td>0.166667</td>\n",
              "      <td>0.277778</td>\n",
              "      <td>0.555556</td>\n",
              "    </tr>\n",
              "    <tr>\n",
              "      <th>3</th>\n",
              "      <td>0.738095</td>\n",
              "      <td>0.523810</td>\n",
              "      <td>0.619048</td>\n",
              "      <td>0.452381</td>\n",
              "      <td>0.666667</td>\n",
              "      <td>0.380952</td>\n",
              "      <td>0.404762</td>\n",
              "      <td>0.690476</td>\n",
              "    </tr>\n",
              "    <tr>\n",
              "      <th>4</th>\n",
              "      <td>0.214286</td>\n",
              "      <td>0.166667</td>\n",
              "      <td>0.285714</td>\n",
              "      <td>0.285714</td>\n",
              "      <td>0.214286</td>\n",
              "      <td>0.142857</td>\n",
              "      <td>0.333333</td>\n",
              "      <td>0.523810</td>\n",
              "    </tr>\n",
              "    <tr>\n",
              "      <th>...</th>\n",
              "      <td>...</td>\n",
              "      <td>...</td>\n",
              "      <td>...</td>\n",
              "      <td>...</td>\n",
              "      <td>...</td>\n",
              "      <td>...</td>\n",
              "      <td>...</td>\n",
              "      <td>...</td>\n",
              "    </tr>\n",
              "    <tr>\n",
              "      <th>215</th>\n",
              "      <td>0.928571</td>\n",
              "      <td>0.892857</td>\n",
              "      <td>1.000000</td>\n",
              "      <td>1.000000</td>\n",
              "      <td>1.000000</td>\n",
              "      <td>0.628571</td>\n",
              "      <td>0.566071</td>\n",
              "      <td>1.000000</td>\n",
              "    </tr>\n",
              "    <tr>\n",
              "      <th>216</th>\n",
              "      <td>1.000000</td>\n",
              "      <td>1.000000</td>\n",
              "      <td>0.972222</td>\n",
              "      <td>1.000000</td>\n",
              "      <td>1.000000</td>\n",
              "      <td>0.875000</td>\n",
              "      <td>0.659722</td>\n",
              "      <td>1.000000</td>\n",
              "    </tr>\n",
              "    <tr>\n",
              "      <th>217</th>\n",
              "      <td>0.906250</td>\n",
              "      <td>0.875000</td>\n",
              "      <td>1.000000</td>\n",
              "      <td>1.000000</td>\n",
              "      <td>1.000000</td>\n",
              "      <td>0.822917</td>\n",
              "      <td>0.739583</td>\n",
              "      <td>1.000000</td>\n",
              "    </tr>\n",
              "    <tr>\n",
              "      <th>218</th>\n",
              "      <td>0.944444</td>\n",
              "      <td>0.907407</td>\n",
              "      <td>1.000000</td>\n",
              "      <td>1.000000</td>\n",
              "      <td>1.000000</td>\n",
              "      <td>0.888889</td>\n",
              "      <td>0.888889</td>\n",
              "      <td>1.000000</td>\n",
              "    </tr>\n",
              "    <tr>\n",
              "      <th>219</th>\n",
              "      <td>0.950000</td>\n",
              "      <td>0.858333</td>\n",
              "      <td>0.895833</td>\n",
              "      <td>1.000000</td>\n",
              "      <td>1.000000</td>\n",
              "      <td>0.908333</td>\n",
              "      <td>0.712500</td>\n",
              "      <td>1.000000</td>\n",
              "    </tr>\n",
              "  </tbody>\n",
              "</table>\n",
              "<p>220 rows × 8 columns</p>\n",
              "</div>\n",
              "      <button class=\"colab-df-convert\" onclick=\"convertToInteractive('df-adefc43f-dacf-42ab-8c56-149ee914eecf')\"\n",
              "              title=\"Convert this dataframe to an interactive table.\"\n",
              "              style=\"display:none;\">\n",
              "        \n",
              "  <svg xmlns=\"http://www.w3.org/2000/svg\" height=\"24px\"viewBox=\"0 0 24 24\"\n",
              "       width=\"24px\">\n",
              "    <path d=\"M0 0h24v24H0V0z\" fill=\"none\"/>\n",
              "    <path d=\"M18.56 5.44l.94 2.06.94-2.06 2.06-.94-2.06-.94-.94-2.06-.94 2.06-2.06.94zm-11 1L8.5 8.5l.94-2.06 2.06-.94-2.06-.94L8.5 2.5l-.94 2.06-2.06.94zm10 10l.94 2.06.94-2.06 2.06-.94-2.06-.94-.94-2.06-.94 2.06-2.06.94z\"/><path d=\"M17.41 7.96l-1.37-1.37c-.4-.4-.92-.59-1.43-.59-.52 0-1.04.2-1.43.59L10.3 9.45l-7.72 7.72c-.78.78-.78 2.05 0 2.83L4 21.41c.39.39.9.59 1.41.59.51 0 1.02-.2 1.41-.59l7.78-7.78 2.81-2.81c.8-.78.8-2.07 0-2.86zM5.41 20L4 18.59l7.72-7.72 1.47 1.35L5.41 20z\"/>\n",
              "  </svg>\n",
              "      </button>\n",
              "      \n",
              "  <style>\n",
              "    .colab-df-container {\n",
              "      display:flex;\n",
              "      flex-wrap:wrap;\n",
              "      gap: 12px;\n",
              "    }\n",
              "\n",
              "    .colab-df-convert {\n",
              "      background-color: #E8F0FE;\n",
              "      border: none;\n",
              "      border-radius: 50%;\n",
              "      cursor: pointer;\n",
              "      display: none;\n",
              "      fill: #1967D2;\n",
              "      height: 32px;\n",
              "      padding: 0 0 0 0;\n",
              "      width: 32px;\n",
              "    }\n",
              "\n",
              "    .colab-df-convert:hover {\n",
              "      background-color: #E2EBFA;\n",
              "      box-shadow: 0px 1px 2px rgba(60, 64, 67, 0.3), 0px 1px 3px 1px rgba(60, 64, 67, 0.15);\n",
              "      fill: #174EA6;\n",
              "    }\n",
              "\n",
              "    [theme=dark] .colab-df-convert {\n",
              "      background-color: #3B4455;\n",
              "      fill: #D2E3FC;\n",
              "    }\n",
              "\n",
              "    [theme=dark] .colab-df-convert:hover {\n",
              "      background-color: #434B5C;\n",
              "      box-shadow: 0px 1px 3px 1px rgba(0, 0, 0, 0.15);\n",
              "      filter: drop-shadow(0px 1px 2px rgba(0, 0, 0, 0.3));\n",
              "      fill: #FFFFFF;\n",
              "    }\n",
              "  </style>\n",
              "\n",
              "      <script>\n",
              "        const buttonEl =\n",
              "          document.querySelector('#df-adefc43f-dacf-42ab-8c56-149ee914eecf button.colab-df-convert');\n",
              "        buttonEl.style.display =\n",
              "          google.colab.kernel.accessAllowed ? 'block' : 'none';\n",
              "\n",
              "        async function convertToInteractive(key) {\n",
              "          const element = document.querySelector('#df-adefc43f-dacf-42ab-8c56-149ee914eecf');\n",
              "          const dataTable =\n",
              "            await google.colab.kernel.invokeFunction('convertToInteractive',\n",
              "                                                     [key], {});\n",
              "          if (!dataTable) return;\n",
              "\n",
              "          const docLinkHtml = 'Like what you see? Visit the ' +\n",
              "            '<a target=\"_blank\" href=https://colab.research.google.com/notebooks/data_table.ipynb>data table notebook</a>'\n",
              "            + ' to learn more about interactive tables.';\n",
              "          element.innerHTML = '';\n",
              "          dataTable['output_type'] = 'display_data';\n",
              "          await google.colab.output.renderOutput(dataTable, element);\n",
              "          const docLink = document.createElement('div');\n",
              "          docLink.innerHTML = docLinkHtml;\n",
              "          element.appendChild(docLink);\n",
              "        }\n",
              "      </script>\n",
              "    </div>\n",
              "  </div>\n",
              "  "
            ]
          },
          "metadata": {},
          "execution_count": 61
        }
      ]
    },
    {
      "cell_type": "code",
      "source": [
        "print(f\"dim resultados100: {resultados100.shape}\")\n",
        "print(f\"dim resultados70: {resultados70.shape}\")\n",
        "print(f\"dim resultadosclasicos: {resultadosclasicos.shape}\")"
      ],
      "metadata": {
        "colab": {
          "base_uri": "https://localhost:8080/"
        },
        "id": "C87T98_jVnCR",
        "outputId": "2a204b5c-2705-4c62-f568-5279e064d7f9"
      },
      "execution_count": 62,
      "outputs": [
        {
          "output_type": "stream",
          "name": "stdout",
          "text": [
            "dim resultados100: (220, 6)\n",
            "dim resultados70: (220, 6)\n",
            "dim resultadosclasicos: (220, 8)\n"
          ]
        }
      ]
    },
    {
      "cell_type": "code",
      "source": [
        "tablaresultados = pd.concat([resultados100, resultados70, resultadosclasicos], axis=1)\n",
        "tablaresultados.shape"
      ],
      "metadata": {
        "colab": {
          "base_uri": "https://localhost:8080/"
        },
        "id": "akvC9O9jUHbS",
        "outputId": "40bea248-861e-4557-c234-26674165ac4b"
      },
      "execution_count": 63,
      "outputs": [
        {
          "output_type": "execute_result",
          "data": {
            "text/plain": [
              "(220, 20)"
            ]
          },
          "metadata": {},
          "execution_count": 63
        }
      ]
    },
    {
      "cell_type": "code",
      "source": [
        "tablaresultados"
      ],
      "metadata": {
        "colab": {
          "base_uri": "https://localhost:8080/",
          "height": 505
        },
        "id": "256dVayY_xSK",
        "outputId": "bebea41f-85b9-4e7b-bc1f-9f10ed9d4600"
      },
      "execution_count": 64,
      "outputs": [
        {
          "output_type": "execute_result",
          "data": {
            "text/plain": [
              "     _chi2/SR  _f_classif/SR  _mutual_info/SR   _3nn/SR   _5nn/SR    _nb/SR  \\\n",
              "0    0.476190       0.428571         0.476190  0.523810  0.619048  0.476190   \n",
              "1    0.500000       0.428571         0.500000  0.571429  0.428571  0.642857   \n",
              "2    0.611111       0.555556         0.722222  0.666667  0.777778  0.611111   \n",
              "3    0.714286       0.809524         0.571429  0.595238  0.857143  0.857143   \n",
              "4    0.428571       0.500000         0.523810  0.500000  0.428571  0.428571   \n",
              "..        ...            ...              ...       ...       ...       ...   \n",
              "215  0.964286       0.964286         0.900000  1.000000  1.000000  1.000000   \n",
              "216  0.944444       1.000000         1.000000  1.000000  0.972222  1.000000   \n",
              "217  1.000000       1.000000         1.000000  1.000000  1.000000  0.916667   \n",
              "218  1.000000       1.000000         1.000000  1.000000  1.000000  1.000000   \n",
              "219  1.000000       1.000000         1.000000  1.000000  1.000000  1.000000   \n",
              "\n",
              "     _chi2/30%  _f_classif/30%  _mutual_info/30%  _3nn/30%  _5nn/30%  \\\n",
              "0     0.571429        0.666667          0.619048  0.571429  0.571429   \n",
              "1     0.642857        0.714286          0.785714  0.571429  0.428571   \n",
              "2     0.888889        0.833333          0.722222  0.666667  0.555556   \n",
              "3     0.952381        0.904762          0.880952  0.785714  0.857143   \n",
              "4     0.571429        0.857143          0.619048  0.428571  0.571429   \n",
              "..         ...             ...               ...       ...       ...   \n",
              "215   1.000000        0.964286          0.750000  1.000000  0.950000   \n",
              "216   1.000000        1.000000          1.000000  0.972222  0.972222   \n",
              "217   1.000000        1.000000          1.000000  0.937500  1.000000   \n",
              "218   1.000000        1.000000          1.000000  1.000000  1.000000   \n",
              "219   1.000000        0.950000          0.837500  1.000000  0.937500   \n",
              "\n",
              "      _nb/30%      3-NN      5-NN  NaiveBayes       MLP  RandomForest  \\\n",
              "0    0.523810  0.380952  0.380952    0.285714  0.428571      0.142857   \n",
              "1    0.571429  0.428571  0.357143    0.428571  0.500000      0.285714   \n",
              "2    0.611111  0.222222  0.444444    0.388889  0.277778      0.444444   \n",
              "3    0.880952  0.738095  0.523810    0.619048  0.452381      0.666667   \n",
              "4    0.571429  0.214286  0.166667    0.285714  0.285714      0.214286   \n",
              "..        ...       ...       ...         ...       ...           ...   \n",
              "215  0.950000  0.928571  0.892857    1.000000  1.000000      1.000000   \n",
              "216  0.972222  1.000000  1.000000    0.972222  1.000000      1.000000   \n",
              "217  0.916667  0.906250  0.875000    1.000000  1.000000      1.000000   \n",
              "218  1.000000  0.944444  0.907407    1.000000  1.000000      1.000000   \n",
              "219  0.958333  0.950000  0.858333    0.895833  1.000000      1.000000   \n",
              "\n",
              "     AdaBoost  DecisionTree  SVM-Linear  \n",
              "0    0.000000      0.166667    0.428571  \n",
              "1    0.214286      0.142857    0.500000  \n",
              "2    0.166667      0.277778    0.555556  \n",
              "3    0.380952      0.404762    0.690476  \n",
              "4    0.142857      0.333333    0.523810  \n",
              "..        ...           ...         ...  \n",
              "215  0.628571      0.566071    1.000000  \n",
              "216  0.875000      0.659722    1.000000  \n",
              "217  0.822917      0.739583    1.000000  \n",
              "218  0.888889      0.888889    1.000000  \n",
              "219  0.908333      0.712500    1.000000  \n",
              "\n",
              "[220 rows x 20 columns]"
            ],
            "text/html": [
              "\n",
              "  <div id=\"df-8f28cd74-b816-4bae-a07d-c87443103bf4\">\n",
              "    <div class=\"colab-df-container\">\n",
              "      <div>\n",
              "<style scoped>\n",
              "    .dataframe tbody tr th:only-of-type {\n",
              "        vertical-align: middle;\n",
              "    }\n",
              "\n",
              "    .dataframe tbody tr th {\n",
              "        vertical-align: top;\n",
              "    }\n",
              "\n",
              "    .dataframe thead th {\n",
              "        text-align: right;\n",
              "    }\n",
              "</style>\n",
              "<table border=\"1\" class=\"dataframe\">\n",
              "  <thead>\n",
              "    <tr style=\"text-align: right;\">\n",
              "      <th></th>\n",
              "      <th>_chi2/SR</th>\n",
              "      <th>_f_classif/SR</th>\n",
              "      <th>_mutual_info/SR</th>\n",
              "      <th>_3nn/SR</th>\n",
              "      <th>_5nn/SR</th>\n",
              "      <th>_nb/SR</th>\n",
              "      <th>_chi2/30%</th>\n",
              "      <th>_f_classif/30%</th>\n",
              "      <th>_mutual_info/30%</th>\n",
              "      <th>_3nn/30%</th>\n",
              "      <th>_5nn/30%</th>\n",
              "      <th>_nb/30%</th>\n",
              "      <th>3-NN</th>\n",
              "      <th>5-NN</th>\n",
              "      <th>NaiveBayes</th>\n",
              "      <th>MLP</th>\n",
              "      <th>RandomForest</th>\n",
              "      <th>AdaBoost</th>\n",
              "      <th>DecisionTree</th>\n",
              "      <th>SVM-Linear</th>\n",
              "    </tr>\n",
              "  </thead>\n",
              "  <tbody>\n",
              "    <tr>\n",
              "      <th>0</th>\n",
              "      <td>0.476190</td>\n",
              "      <td>0.428571</td>\n",
              "      <td>0.476190</td>\n",
              "      <td>0.523810</td>\n",
              "      <td>0.619048</td>\n",
              "      <td>0.476190</td>\n",
              "      <td>0.571429</td>\n",
              "      <td>0.666667</td>\n",
              "      <td>0.619048</td>\n",
              "      <td>0.571429</td>\n",
              "      <td>0.571429</td>\n",
              "      <td>0.523810</td>\n",
              "      <td>0.380952</td>\n",
              "      <td>0.380952</td>\n",
              "      <td>0.285714</td>\n",
              "      <td>0.428571</td>\n",
              "      <td>0.142857</td>\n",
              "      <td>0.000000</td>\n",
              "      <td>0.166667</td>\n",
              "      <td>0.428571</td>\n",
              "    </tr>\n",
              "    <tr>\n",
              "      <th>1</th>\n",
              "      <td>0.500000</td>\n",
              "      <td>0.428571</td>\n",
              "      <td>0.500000</td>\n",
              "      <td>0.571429</td>\n",
              "      <td>0.428571</td>\n",
              "      <td>0.642857</td>\n",
              "      <td>0.642857</td>\n",
              "      <td>0.714286</td>\n",
              "      <td>0.785714</td>\n",
              "      <td>0.571429</td>\n",
              "      <td>0.428571</td>\n",
              "      <td>0.571429</td>\n",
              "      <td>0.428571</td>\n",
              "      <td>0.357143</td>\n",
              "      <td>0.428571</td>\n",
              "      <td>0.500000</td>\n",
              "      <td>0.285714</td>\n",
              "      <td>0.214286</td>\n",
              "      <td>0.142857</td>\n",
              "      <td>0.500000</td>\n",
              "    </tr>\n",
              "    <tr>\n",
              "      <th>2</th>\n",
              "      <td>0.611111</td>\n",
              "      <td>0.555556</td>\n",
              "      <td>0.722222</td>\n",
              "      <td>0.666667</td>\n",
              "      <td>0.777778</td>\n",
              "      <td>0.611111</td>\n",
              "      <td>0.888889</td>\n",
              "      <td>0.833333</td>\n",
              "      <td>0.722222</td>\n",
              "      <td>0.666667</td>\n",
              "      <td>0.555556</td>\n",
              "      <td>0.611111</td>\n",
              "      <td>0.222222</td>\n",
              "      <td>0.444444</td>\n",
              "      <td>0.388889</td>\n",
              "      <td>0.277778</td>\n",
              "      <td>0.444444</td>\n",
              "      <td>0.166667</td>\n",
              "      <td>0.277778</td>\n",
              "      <td>0.555556</td>\n",
              "    </tr>\n",
              "    <tr>\n",
              "      <th>3</th>\n",
              "      <td>0.714286</td>\n",
              "      <td>0.809524</td>\n",
              "      <td>0.571429</td>\n",
              "      <td>0.595238</td>\n",
              "      <td>0.857143</td>\n",
              "      <td>0.857143</td>\n",
              "      <td>0.952381</td>\n",
              "      <td>0.904762</td>\n",
              "      <td>0.880952</td>\n",
              "      <td>0.785714</td>\n",
              "      <td>0.857143</td>\n",
              "      <td>0.880952</td>\n",
              "      <td>0.738095</td>\n",
              "      <td>0.523810</td>\n",
              "      <td>0.619048</td>\n",
              "      <td>0.452381</td>\n",
              "      <td>0.666667</td>\n",
              "      <td>0.380952</td>\n",
              "      <td>0.404762</td>\n",
              "      <td>0.690476</td>\n",
              "    </tr>\n",
              "    <tr>\n",
              "      <th>4</th>\n",
              "      <td>0.428571</td>\n",
              "      <td>0.500000</td>\n",
              "      <td>0.523810</td>\n",
              "      <td>0.500000</td>\n",
              "      <td>0.428571</td>\n",
              "      <td>0.428571</td>\n",
              "      <td>0.571429</td>\n",
              "      <td>0.857143</td>\n",
              "      <td>0.619048</td>\n",
              "      <td>0.428571</td>\n",
              "      <td>0.571429</td>\n",
              "      <td>0.571429</td>\n",
              "      <td>0.214286</td>\n",
              "      <td>0.166667</td>\n",
              "      <td>0.285714</td>\n",
              "      <td>0.285714</td>\n",
              "      <td>0.214286</td>\n",
              "      <td>0.142857</td>\n",
              "      <td>0.333333</td>\n",
              "      <td>0.523810</td>\n",
              "    </tr>\n",
              "    <tr>\n",
              "      <th>...</th>\n",
              "      <td>...</td>\n",
              "      <td>...</td>\n",
              "      <td>...</td>\n",
              "      <td>...</td>\n",
              "      <td>...</td>\n",
              "      <td>...</td>\n",
              "      <td>...</td>\n",
              "      <td>...</td>\n",
              "      <td>...</td>\n",
              "      <td>...</td>\n",
              "      <td>...</td>\n",
              "      <td>...</td>\n",
              "      <td>...</td>\n",
              "      <td>...</td>\n",
              "      <td>...</td>\n",
              "      <td>...</td>\n",
              "      <td>...</td>\n",
              "      <td>...</td>\n",
              "      <td>...</td>\n",
              "      <td>...</td>\n",
              "    </tr>\n",
              "    <tr>\n",
              "      <th>215</th>\n",
              "      <td>0.964286</td>\n",
              "      <td>0.964286</td>\n",
              "      <td>0.900000</td>\n",
              "      <td>1.000000</td>\n",
              "      <td>1.000000</td>\n",
              "      <td>1.000000</td>\n",
              "      <td>1.000000</td>\n",
              "      <td>0.964286</td>\n",
              "      <td>0.750000</td>\n",
              "      <td>1.000000</td>\n",
              "      <td>0.950000</td>\n",
              "      <td>0.950000</td>\n",
              "      <td>0.928571</td>\n",
              "      <td>0.892857</td>\n",
              "      <td>1.000000</td>\n",
              "      <td>1.000000</td>\n",
              "      <td>1.000000</td>\n",
              "      <td>0.628571</td>\n",
              "      <td>0.566071</td>\n",
              "      <td>1.000000</td>\n",
              "    </tr>\n",
              "    <tr>\n",
              "      <th>216</th>\n",
              "      <td>0.944444</td>\n",
              "      <td>1.000000</td>\n",
              "      <td>1.000000</td>\n",
              "      <td>1.000000</td>\n",
              "      <td>0.972222</td>\n",
              "      <td>1.000000</td>\n",
              "      <td>1.000000</td>\n",
              "      <td>1.000000</td>\n",
              "      <td>1.000000</td>\n",
              "      <td>0.972222</td>\n",
              "      <td>0.972222</td>\n",
              "      <td>0.972222</td>\n",
              "      <td>1.000000</td>\n",
              "      <td>1.000000</td>\n",
              "      <td>0.972222</td>\n",
              "      <td>1.000000</td>\n",
              "      <td>1.000000</td>\n",
              "      <td>0.875000</td>\n",
              "      <td>0.659722</td>\n",
              "      <td>1.000000</td>\n",
              "    </tr>\n",
              "    <tr>\n",
              "      <th>217</th>\n",
              "      <td>1.000000</td>\n",
              "      <td>1.000000</td>\n",
              "      <td>1.000000</td>\n",
              "      <td>1.000000</td>\n",
              "      <td>1.000000</td>\n",
              "      <td>0.916667</td>\n",
              "      <td>1.000000</td>\n",
              "      <td>1.000000</td>\n",
              "      <td>1.000000</td>\n",
              "      <td>0.937500</td>\n",
              "      <td>1.000000</td>\n",
              "      <td>0.916667</td>\n",
              "      <td>0.906250</td>\n",
              "      <td>0.875000</td>\n",
              "      <td>1.000000</td>\n",
              "      <td>1.000000</td>\n",
              "      <td>1.000000</td>\n",
              "      <td>0.822917</td>\n",
              "      <td>0.739583</td>\n",
              "      <td>1.000000</td>\n",
              "    </tr>\n",
              "    <tr>\n",
              "      <th>218</th>\n",
              "      <td>1.000000</td>\n",
              "      <td>1.000000</td>\n",
              "      <td>1.000000</td>\n",
              "      <td>1.000000</td>\n",
              "      <td>1.000000</td>\n",
              "      <td>1.000000</td>\n",
              "      <td>1.000000</td>\n",
              "      <td>1.000000</td>\n",
              "      <td>1.000000</td>\n",
              "      <td>1.000000</td>\n",
              "      <td>1.000000</td>\n",
              "      <td>1.000000</td>\n",
              "      <td>0.944444</td>\n",
              "      <td>0.907407</td>\n",
              "      <td>1.000000</td>\n",
              "      <td>1.000000</td>\n",
              "      <td>1.000000</td>\n",
              "      <td>0.888889</td>\n",
              "      <td>0.888889</td>\n",
              "      <td>1.000000</td>\n",
              "    </tr>\n",
              "    <tr>\n",
              "      <th>219</th>\n",
              "      <td>1.000000</td>\n",
              "      <td>1.000000</td>\n",
              "      <td>1.000000</td>\n",
              "      <td>1.000000</td>\n",
              "      <td>1.000000</td>\n",
              "      <td>1.000000</td>\n",
              "      <td>1.000000</td>\n",
              "      <td>0.950000</td>\n",
              "      <td>0.837500</td>\n",
              "      <td>1.000000</td>\n",
              "      <td>0.937500</td>\n",
              "      <td>0.958333</td>\n",
              "      <td>0.950000</td>\n",
              "      <td>0.858333</td>\n",
              "      <td>0.895833</td>\n",
              "      <td>1.000000</td>\n",
              "      <td>1.000000</td>\n",
              "      <td>0.908333</td>\n",
              "      <td>0.712500</td>\n",
              "      <td>1.000000</td>\n",
              "    </tr>\n",
              "  </tbody>\n",
              "</table>\n",
              "<p>220 rows × 20 columns</p>\n",
              "</div>\n",
              "      <button class=\"colab-df-convert\" onclick=\"convertToInteractive('df-8f28cd74-b816-4bae-a07d-c87443103bf4')\"\n",
              "              title=\"Convert this dataframe to an interactive table.\"\n",
              "              style=\"display:none;\">\n",
              "        \n",
              "  <svg xmlns=\"http://www.w3.org/2000/svg\" height=\"24px\"viewBox=\"0 0 24 24\"\n",
              "       width=\"24px\">\n",
              "    <path d=\"M0 0h24v24H0V0z\" fill=\"none\"/>\n",
              "    <path d=\"M18.56 5.44l.94 2.06.94-2.06 2.06-.94-2.06-.94-.94-2.06-.94 2.06-2.06.94zm-11 1L8.5 8.5l.94-2.06 2.06-.94-2.06-.94L8.5 2.5l-.94 2.06-2.06.94zm10 10l.94 2.06.94-2.06 2.06-.94-2.06-.94-.94-2.06-.94 2.06-2.06.94z\"/><path d=\"M17.41 7.96l-1.37-1.37c-.4-.4-.92-.59-1.43-.59-.52 0-1.04.2-1.43.59L10.3 9.45l-7.72 7.72c-.78.78-.78 2.05 0 2.83L4 21.41c.39.39.9.59 1.41.59.51 0 1.02-.2 1.41-.59l7.78-7.78 2.81-2.81c.8-.78.8-2.07 0-2.86zM5.41 20L4 18.59l7.72-7.72 1.47 1.35L5.41 20z\"/>\n",
              "  </svg>\n",
              "      </button>\n",
              "      \n",
              "  <style>\n",
              "    .colab-df-container {\n",
              "      display:flex;\n",
              "      flex-wrap:wrap;\n",
              "      gap: 12px;\n",
              "    }\n",
              "\n",
              "    .colab-df-convert {\n",
              "      background-color: #E8F0FE;\n",
              "      border: none;\n",
              "      border-radius: 50%;\n",
              "      cursor: pointer;\n",
              "      display: none;\n",
              "      fill: #1967D2;\n",
              "      height: 32px;\n",
              "      padding: 0 0 0 0;\n",
              "      width: 32px;\n",
              "    }\n",
              "\n",
              "    .colab-df-convert:hover {\n",
              "      background-color: #E2EBFA;\n",
              "      box-shadow: 0px 1px 2px rgba(60, 64, 67, 0.3), 0px 1px 3px 1px rgba(60, 64, 67, 0.15);\n",
              "      fill: #174EA6;\n",
              "    }\n",
              "\n",
              "    [theme=dark] .colab-df-convert {\n",
              "      background-color: #3B4455;\n",
              "      fill: #D2E3FC;\n",
              "    }\n",
              "\n",
              "    [theme=dark] .colab-df-convert:hover {\n",
              "      background-color: #434B5C;\n",
              "      box-shadow: 0px 1px 3px 1px rgba(0, 0, 0, 0.15);\n",
              "      filter: drop-shadow(0px 1px 2px rgba(0, 0, 0, 0.3));\n",
              "      fill: #FFFFFF;\n",
              "    }\n",
              "  </style>\n",
              "\n",
              "      <script>\n",
              "        const buttonEl =\n",
              "          document.querySelector('#df-8f28cd74-b816-4bae-a07d-c87443103bf4 button.colab-df-convert');\n",
              "        buttonEl.style.display =\n",
              "          google.colab.kernel.accessAllowed ? 'block' : 'none';\n",
              "\n",
              "        async function convertToInteractive(key) {\n",
              "          const element = document.querySelector('#df-8f28cd74-b816-4bae-a07d-c87443103bf4');\n",
              "          const dataTable =\n",
              "            await google.colab.kernel.invokeFunction('convertToInteractive',\n",
              "                                                     [key], {});\n",
              "          if (!dataTable) return;\n",
              "\n",
              "          const docLinkHtml = 'Like what you see? Visit the ' +\n",
              "            '<a target=\"_blank\" href=https://colab.research.google.com/notebooks/data_table.ipynb>data table notebook</a>'\n",
              "            + ' to learn more about interactive tables.';\n",
              "          element.innerHTML = '';\n",
              "          dataTable['output_type'] = 'display_data';\n",
              "          await google.colab.output.renderOutput(dataTable, element);\n",
              "          const docLink = document.createElement('div');\n",
              "          docLink.innerHTML = docLinkHtml;\n",
              "          element.appendChild(docLink);\n",
              "        }\n",
              "      </script>\n",
              "    </div>\n",
              "  </div>\n",
              "  "
            ]
          },
          "metadata": {},
          "execution_count": 64
        }
      ]
    },
    {
      "cell_type": "code",
      "source": [
        "from textwrap import indent\n",
        "def ranking(tabla_experimentos):\n",
        "  \"\"\"\n",
        "  Aplica una prueba estadística Friedman a los resultados de los esperimentos\n",
        "  que arroja un ranking de los clasificadores y el valor p, para conocer si exiten diferencias\n",
        "  en las distribuciones de los resultados de los clasificadores\n",
        "  tabla_experimentos: una talba que muestra los resultaods de los experimentos donde\n",
        "  filas represetan las muestras y las columnas los clasificadores\n",
        "\n",
        "  return: None\n",
        "  \"\"\"\n",
        "  tabla_experimentos.columns = [\"cnn\"+ c if c[0] == \"_\" else c for c in tabla_experimentos.columns]\n",
        "  accs_df = tabla_experimentos\n",
        "  accs_arr = accs_df.values\n",
        "  accs_arr = 1 - accs_arr\n",
        "  # print(f\"Accuracys:\\n{accs_df.values.round(2)}\")\n",
        "  # prueba de Friedman\n",
        "  statistics, pvalue = st.friedmanchisquare(accs_arr[:,0],accs_arr[:,1],accs_arr[:,2],accs_arr[:,3],accs_arr[:,4],\n",
        "                                          accs_arr[:,5],accs_arr[:,6],accs_arr[:,7],accs_arr[:,8],accs_arr[:,9],\n",
        "                                          accs_arr[:,10],accs_arr[:,11],accs_arr[:,12],accs_arr[:,13],accs_arr[:,14],\n",
        "                                          accs_arr[:,15],accs_arr[:,16],accs_arr[:,17],accs_arr[:,18],accs_arr[:,19])\n",
        "  print(f\"\\np-value: {pvalue}\")\n",
        "\n",
        "  # Rankeo de algoritmos\n",
        "  rank = st.mstats.rankdata(accs_arr, axis=1)\n",
        "  # Promedio del ranking\n",
        "  mrank = np.average(rank, axis=0)\n",
        "  # Ordenar clasificadores por ranking\n",
        "  rank_idx = np.argsort(mrank)\n",
        "  mrank_sorted = mrank[rank_idx]\n",
        "  clfs_sorted = accs_df.columns[rank_idx]\n",
        "\n",
        "  # print(f\"Tabla de rankings en algoritmos:\\n{rank}\")\n",
        "  print(\"\\nClasificador                Ranking\")\n",
        "  for avg, clf in zip(mrank_sorted, clfs_sorted):\n",
        "      # clf = clf.split(\"(\")[0]\n",
        "      print(f\"{clf}:{' '*(28-len(clf))}{avg.round(2)}\")\n",
        "  ind = 0\n",
        "  c = 0\n",
        "  nbox = 0\n",
        "  boxclas = []\n",
        "  colsrank = list(accs_df.columns[rank_idx])\n",
        "  while c < 12:\n",
        "    if colsrank[ind][:3] == \"cnn\":\n",
        "      c +=1\n",
        "    else:\n",
        "      boxclas.append(ind)\n",
        "    nbox +=1\n",
        "    ind +=1\n",
        "\n",
        "  fig = plt.figure(figsize=(20,8),dpi=100)\n",
        "  # demonstrate how to customize the display different elements:\n",
        "  boxprops = dict(linestyle='-', linewidth=2, color='k')\n",
        "  medianprops = dict(linestyle='-', linewidth=2, color='k')\n",
        "\n",
        "  ax = accs_df.boxplot(column=list(accs_df.columns[rank_idx])[:nbox],\n",
        "                  # by=df.index.get_level_values('datetime').year,\n",
        "                  showfliers=True, showmeans=True,\n",
        "                  boxprops=boxprops,\n",
        "                  medianprops=medianprops,\n",
        "                  fontsize=10,\n",
        "                  meanprops=dict(color=\"k\"),\n",
        "                  patch_artist=True,\n",
        "                  return_type='dict')\n",
        "  # get rid of the automatic title\n",
        "\n",
        "  colors = ['lightsteelblue']*14\n",
        "  for box, i in zip(ax[\"boxes\"], range(len(colors))):\n",
        "      box.set_facecolor(colors[i])\n",
        "  for bc in boxclas:\n",
        "    ax[\"boxes\"][bc].set_facecolor(\"antiquewhite\")\n",
        "\n",
        "  plt.xticks(fontweight='bold', rotation=20)\n",
        "\n",
        "\n",
        "  plt.suptitle(\"\")\n",
        "  # plt.title(\"Configuraciones clasificadas con CNN vs Mejores Clasificadores\")\n",
        "  plt.show()\n",
        "  fig.savefig('boxplot.png')\n"
      ],
      "metadata": {
        "id": "K2LtRPBHT1md"
      },
      "execution_count": 65,
      "outputs": []
    },
    {
      "cell_type": "code",
      "source": [
        "ranking(tablaresultados)"
      ],
      "metadata": {
        "colab": {
          "base_uri": "https://localhost:8080/",
          "height": 1000
        },
        "id": "hClLJ9VgXSUx",
        "outputId": "2ff46cbc-674c-4e47-9fd6-53db2b5264b6"
      },
      "execution_count": 66,
      "outputs": [
        {
          "output_type": "stream",
          "name": "stdout",
          "text": [
            "\n",
            "p-value: 1.8017332549682782e-146\n",
            "\n",
            "Clasificador                Ranking\n",
            "cnn_chi2/30%:                7.16\n",
            "SVM-Linear:                  7.63\n",
            "cnn_f_classif/30%:           7.89\n",
            "cnn_mutual_info/30%:         8.18\n",
            "cnn_nb/SR:                   8.72\n",
            "cnn_3nn/SR:                  8.97\n",
            "cnn_5nn/SR:                  9.0\n",
            "cnn_mutual_info/SR:          9.56\n",
            "cnn_chi2/SR:                 9.89\n",
            "cnn_f_classif/SR:            10.14\n",
            "cnn_5nn/30%:                 10.28\n",
            "cnn_3nn/30%:                 10.57\n",
            "cnn_nb/30%:                  10.72\n",
            "RandomForest:                10.78\n",
            "NaiveBayes:                  11.53\n",
            "3-NN:                        11.71\n",
            "MLP:                         12.98\n",
            "5-NN:                        13.27\n",
            "DecisionTree:                15.21\n",
            "AdaBoost:                    15.79\n"
          ]
        },
        {
          "output_type": "display_data",
          "data": {
            "text/plain": [
              "<Figure size 2000x800 with 1 Axes>"
            ],
            "image/png": "[encoded data removed]"
          },
          "metadata": {}
        }
      ]
    },
    {
      "cell_type": "code",
      "source": [],
      "metadata": {
        "id": "bkRzNf9DxgZ6"
      },
      "execution_count": null,
      "outputs": []
    }
  ]
}